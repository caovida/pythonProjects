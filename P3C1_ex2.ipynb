{
  "cells": [
    {
      "cell_type": "markdown",
      "metadata": {
        "id": "view-in-github",
        "colab_type": "text"
      },
      "source": [
        "<a href=\"https://colab.research.google.com/github/caovida/pythonProjects/blob/main/P3C1_ex2.ipynb\" target=\"_parent\"><img src=\"https://colab.research.google.com/assets/colab-badge.svg\" alt=\"Open In Colab\"/></a>"
      ]
    },
    {
      "cell_type": "markdown",
      "metadata": {
        "id": "TpUSWxJ7Bnxq"
      },
      "source": [
        "![openclassrooms](https://s3.eu-west-1.amazonaws.com/course.oc-static.com/courses/6204541/1+HnqdJ-5ofxiPP9HIxdNdpw.jpeg)\n",
        "\n",
        "# Learn Python Basics for Data Analysis\n",
        "\n",
        "## Create Arrays to Store Your Variables\n",
        "\n",
        "<br><br>\n",
        "\n",
        "**Adding Items to a List**\n",
        "\n",
        "Replace the **??** with the appropriate code to create an empty list:\n"
      ]
    },
    {
      "cell_type": "code",
      "execution_count": 41,
      "metadata": {
        "id": "x5JtefkEBnxt"
      },
      "outputs": [],
      "source": [
        "guests = []"
      ]
    },
    {
      "cell_type": "markdown",
      "metadata": {
        "id": "IzNAg4MMBnxu"
      },
      "source": [
        "Add three guests to the list: Joey, Martin, and Mary"
      ]
    },
    {
      "cell_type": "code",
      "execution_count": 42,
      "metadata": {
        "id": "GP_ddsKQBnxu"
      },
      "outputs": [],
      "source": [
        "guests.append(\"Joey\")\n",
        "guests.append(\"Martin\")\n",
        "guests.append(\"Mary\")"
      ]
    },
    {
      "cell_type": "markdown",
      "metadata": {
        "id": "eIisJcd1Bnxv"
      },
      "source": [
        "Print the size of the list:"
      ]
    },
    {
      "cell_type": "code",
      "execution_count": 43,
      "metadata": {
        "id": "XjdRwB1pBnxv",
        "outputId": "08df65a4-a53f-4431-c79b-2b04e7c5f593",
        "colab": {
          "base_uri": "https://localhost:8080/"
        }
      },
      "outputs": [
        {
          "output_type": "stream",
          "name": "stdout",
          "text": [
            "['Joey', 'Martin', 'Mary']\n"
          ]
        }
      ],
      "source": [
        "print(guests)"
      ]
    },
    {
      "cell_type": "markdown",
      "metadata": {
        "id": "zkTnRS0ZBnxv"
      },
      "source": [
        "Replace Martin with John in the list:"
      ]
    },
    {
      "cell_type": "markdown",
      "source": [],
      "metadata": {
        "id": "UgxrfJ7PJ7j4"
      }
    },
    {
      "cell_type": "code",
      "execution_count": 44,
      "metadata": {
        "id": "Q_gnebyKBnxw",
        "outputId": "76f5e995-1cc1-4ddd-becc-76bf5b92a895",
        "colab": {
          "base_uri": "https://localhost:8080/"
        }
      },
      "outputs": [
        {
          "output_type": "stream",
          "name": "stdout",
          "text": [
            "['Joey', 'John', 'Mary']\n"
          ]
        }
      ],
      "source": [
        "guests[1] = \"John\"\n",
        "print(  guests)"
      ]
    },
    {
      "cell_type": "markdown",
      "metadata": {
        "id": "jJJAdFUgBnxw"
      },
      "source": [
        "Delete Joey from the list:"
      ]
    },
    {
      "cell_type": "code",
      "execution_count": 49,
      "metadata": {
        "id": "294kCaDGBnxx"
      },
      "outputs": [],
      "source": [
        "guests.remove('Joey')"
      ]
    },
    {
      "cell_type": "markdown",
      "metadata": {
        "id": "6gwRXgVWBnxx"
      },
      "source": [
        "Print the contents of the list:"
      ]
    },
    {
      "cell_type": "code",
      "execution_count": 50,
      "metadata": {
        "id": "_QJky18LBnxy",
        "outputId": "e2d0c615-6124-4049-86cd-f8df5f63ea6a",
        "colab": {
          "base_uri": "https://localhost:8080/"
        }
      },
      "outputs": [
        {
          "output_type": "stream",
          "name": "stdout",
          "text": [
            "John\n",
            "Mary\n"
          ]
        }
      ],
      "source": [
        "for guest in guests:\n",
        "    print(guest)"
      ]
    }
  ],
  "metadata": {
    "colab": {
      "name": "P3C1 ex2.ipynb",
      "provenance": [],
      "include_colab_link": true
    },
    "kernelspec": {
      "display_name": "Python 3.9.7 ('base')",
      "language": "python",
      "name": "python3"
    },
    "language_info": {
      "codemirror_mode": {
        "name": "ipython",
        "version": 3
      },
      "file_extension": ".py",
      "mimetype": "text/x-python",
      "name": "python",
      "nbconvert_exporter": "python",
      "pygments_lexer": "ipython3",
      "version": "3.9.7"
    },
    "vscode": {
      "interpreter": {
        "hash": "0d5b2adc70bf0954b7415f3bc8543415bd6d361c5e0c2c03226caf4972d8a62d"
      }
    }
  },
  "nbformat": 4,
  "nbformat_minor": 0
}